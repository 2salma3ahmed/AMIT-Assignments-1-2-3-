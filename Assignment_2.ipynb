{
  "cells": [
    {
      "cell_type": "markdown",
      "metadata": {
        "collapsed": true,
        "id": "BIK2TjWAGvM7"
      },
      "source": [
        "# Assignment 2\n",
        "Let's test your knowledge!"
      ]
    },
    {
      "cell_type": "markdown",
      "metadata": {
        "id": "PKKuKfmmGvNB"
      },
      "source": [
        "_____\n",
        "**Use <code>for</code>, .split(), and <code>if</code> to create a Statement that will print out words that start with 's':**"
      ]
    },
    {
      "cell_type": "code",
      "execution_count": null,
      "metadata": {
        "id": "4UjxIQ2AGvNC"
      },
      "outputs": [],
      "source": [
        "st = 'Print only the words that start with s in this sentence'"
      ]
    },
    {
      "cell_type": "code",
      "execution_count": null,
      "metadata": {
        "colab": {
          "base_uri": "https://localhost:8080/"
        },
        "id": "SqpUFboBGvND",
        "outputId": "24fd60ef-8aed-476d-ff07-a321a554e8ee"
      },
      "outputs": [
        {
          "output_type": "stream",
          "name": "stdout",
          "text": [
            "start\n",
            "s\n",
            "sentence\n"
          ]
        }
      ],
      "source": [
        "#Code here\n",
        "st = 'Print only the words that start with s in this sentence'\n",
        "for start_s in st.split():\n",
        "    if start_s[0] == 's':\n",
        "        print(start_s)\n"
      ]
    },
    {
      "cell_type": "markdown",
      "metadata": {
        "id": "wtZIadlPGvNE"
      },
      "source": [
        "______\n",
        "**Use range() to print all the even numbers from 0 to 10.**"
      ]
    },
    {
      "cell_type": "code",
      "execution_count": null,
      "metadata": {
        "colab": {
          "base_uri": "https://localhost:8080/"
        },
        "id": "jnyV0egCGvNF",
        "outputId": "2e312e48-8be1-4489-a9e8-215360e66073"
      },
      "outputs": [
        {
          "output_type": "stream",
          "name": "stdout",
          "text": [
            "Enter the first number : 0\n",
            "Enter the maximum range : 10\n",
            "0\n",
            "2\n",
            "4\n",
            "6\n",
            "8\n",
            "10\n"
          ]
        }
      ],
      "source": [
        "start_num = int(input(\"Enter the first number : \"))\n",
        "end_num = int(input(\"Enter the maximum range : \"))\n",
        "\n",
        "for x in range(start_num, end_num +1):\n",
        "  if(x%2 == 0):\n",
        "    print(x)"
      ]
    },
    {
      "cell_type": "markdown",
      "metadata": {
        "id": "tvOpm357GvNF"
      },
      "source": [
        "___\n",
        "**Use a List Comprehension to create a list of all numbers between 1 and 50 that are divisible by 3.**"
      ]
    },
    {
      "cell_type": "code",
      "execution_count": null,
      "metadata": {
        "colab": {
          "base_uri": "https://localhost:8080/"
        },
        "id": "gx6RrpKOGvNG",
        "outputId": "081dcea7-5c6f-40a3-c1a2-76b7f8e6e967"
      },
      "outputs": [
        {
          "output_type": "stream",
          "name": "stdout",
          "text": [
            "Enter the first number : 0\n",
            "Enter the maximum range : 50\n",
            "[0, 3, 6, 9, 12, 15, 18, 21, 24, 27, 30, 33, 36, 39, 42, 45, 48]\n"
          ]
        }
      ],
      "source": [
        "#Code Here\n",
        "start_num = int(input(\"Enter the first number : \"))\n",
        "end_num = int(input(\"Enter the maximum range : \"))\n",
        "list1 = [x for x in range(start_num , end_num + 1) if x % 3 == 0]\n",
        "print(list1)"
      ]
    },
    {
      "cell_type": "code",
      "source": [
        "list1 = [x for x in range(1, 51) if x % 3 == 0]\n",
        "print(list1)"
      ],
      "metadata": {
        "colab": {
          "base_uri": "https://localhost:8080/"
        },
        "id": "IidNLTHxLaFn",
        "outputId": "a8435871-b59b-4918-8469-3561adf2d6fc"
      },
      "execution_count": null,
      "outputs": [
        {
          "output_type": "stream",
          "name": "stdout",
          "text": [
            "[3, 6, 9, 12, 15, 18, 21, 24, 27, 30, 33, 36, 39, 42, 45, 48]\n"
          ]
        }
      ]
    },
    {
      "cell_type": "markdown",
      "metadata": {
        "id": "WcE3PFE6GvNH"
      },
      "source": [
        "_____\n",
        "**Go through the string below and if the length of a word is even print \"even!\"**"
      ]
    },
    {
      "cell_type": "code",
      "execution_count": null,
      "metadata": {
        "id": "O_tcHi2qGvNI"
      },
      "outputs": [],
      "source": [
        "st = 'Print every word in this sentence that has an even number of letters'"
      ]
    },
    {
      "cell_type": "code",
      "source": [
        "st = 'Print every word in this sentence that has an even number of letters'\n",
        "\n",
        "for word in x:\n",
        "  if len(word)%2==0:\n",
        "    print(word,'even')\n",
        "  else: #extra not required in the code\n",
        "    print(word, 'odd')"
      ],
      "metadata": {
        "colab": {
          "base_uri": "https://localhost:8080/"
        },
        "id": "9o0JpObmNLkp",
        "outputId": "4085313e-b6ff-4362-8812-dc1a6914ee5c"
      },
      "execution_count": null,
      "outputs": [
        {
          "output_type": "stream",
          "name": "stdout",
          "text": [
            "Print odd\n",
            "every odd\n",
            "word even\n",
            "in even\n",
            "this even\n",
            "sentence even\n",
            "that even\n",
            "has odd\n",
            "an even\n",
            "even even\n",
            "number even\n",
            "of even\n",
            "letters odd\n"
          ]
        }
      ]
    },
    {
      "cell_type": "code",
      "execution_count": null,
      "metadata": {
        "colab": {
          "base_uri": "https://localhost:8080/"
        },
        "id": "9RZTTsXbGvNI",
        "outputId": "259278fb-a03f-489f-cf48-9d564f2fbd76"
      },
      "outputs": [
        {
          "output_type": "stream",
          "name": "stdout",
          "text": [
            "['Print', 'every', 'word', 'in', 'this', 'sentence', 'that', 'has', 'an', 'even', 'number', 'of', 'letters']\n",
            "\n",
            "['Print', 'odd']\n",
            "['every', 'odd']\n",
            "['word', 'even']\n",
            "['in', 'even']\n",
            "['this', 'even']\n",
            "['sentence', 'even']\n",
            "['that', 'even']\n",
            "['has', 'odd']\n",
            "['an', 'even']\n",
            "['even', 'even']\n",
            "['number', 'even']\n",
            "['of', 'even']\n",
            "['letters', 'odd']\n"
          ]
        }
      ],
      "source": [
        "#Code in this cell\n",
        "st = 'Print every word in this sentence that has an even number of letters'\n",
        "b = st.split() # extra not required in assignment question\n",
        "print(b) # extra not required in assignment question\n",
        "print()\n",
        "for st in x:\n",
        "  if len(st)%2==0:\n",
        "    print([st,'even']) # made output appear in []\n",
        "  else:\n",
        "    print([st, 'odd']) # made output appear in []"
      ]
    },
    {
      "cell_type": "markdown",
      "metadata": {
        "id": "UGfTRKfFGvNJ"
      },
      "source": [
        "____\n",
        "**Write a program that prints the integers from 1 to 100. But for multiples of three print \"Fizz\" instead of the number, and for the multiples of five print \"Buzz\". For numbers which are multiples of both three and five print \"FizzBuzz\".**"
      ]
    },
    {
      "cell_type": "code",
      "execution_count": null,
      "metadata": {
        "colab": {
          "base_uri": "https://localhost:8080/"
        },
        "id": "Y3DU-_7iGvNJ",
        "outputId": "74e217ff-3911-4ec9-f82d-bc7e51c30bdd"
      },
      "outputs": [
        {
          "output_type": "stream",
          "name": "stdout",
          "text": [
            "FizzBuzz: 0\n",
            "1\n",
            "2\n",
            "Fizz:3\n",
            "4\n",
            "Buzz:5\n",
            "Fizz:6\n",
            "7\n",
            "8\n",
            "Fizz:9\n",
            "Buzz:10\n",
            "11\n",
            "Fizz:12\n",
            "13\n",
            "14\n",
            "FizzBuzz: 15\n",
            "16\n",
            "17\n",
            "Fizz:18\n",
            "19\n",
            "Buzz:20\n",
            "Fizz:21\n",
            "22\n",
            "23\n",
            "Fizz:24\n",
            "Buzz:25\n",
            "26\n",
            "Fizz:27\n",
            "28\n",
            "29\n",
            "FizzBuzz: 30\n",
            "31\n",
            "32\n",
            "Fizz:33\n",
            "34\n",
            "Buzz:35\n",
            "Fizz:36\n",
            "37\n",
            "38\n",
            "Fizz:39\n",
            "Buzz:40\n",
            "41\n",
            "Fizz:42\n",
            "43\n",
            "44\n",
            "FizzBuzz: 45\n",
            "46\n",
            "47\n",
            "Fizz:48\n",
            "49\n",
            "Buzz:50\n",
            "Fizz:51\n",
            "52\n",
            "53\n",
            "Fizz:54\n",
            "Buzz:55\n",
            "56\n",
            "Fizz:57\n",
            "58\n",
            "59\n",
            "FizzBuzz: 60\n",
            "61\n",
            "62\n",
            "Fizz:63\n",
            "64\n",
            "Buzz:65\n",
            "Fizz:66\n",
            "67\n",
            "68\n",
            "Fizz:69\n",
            "Buzz:70\n",
            "71\n",
            "Fizz:72\n",
            "73\n",
            "74\n",
            "FizzBuzz: 75\n",
            "76\n",
            "77\n",
            "Fizz:78\n",
            "79\n",
            "Buzz:80\n",
            "Fizz:81\n",
            "82\n",
            "83\n",
            "Fizz:84\n",
            "Buzz:85\n",
            "86\n",
            "Fizz:87\n",
            "88\n",
            "89\n",
            "FizzBuzz: 90\n",
            "91\n",
            "92\n",
            "Fizz:93\n",
            "94\n",
            "Buzz:95\n",
            "Fizz:96\n",
            "97\n",
            "98\n",
            "Fizz:99\n"
          ]
        }
      ],
      "source": [
        "#Code in this cell\n",
        "for numbers in range(0,100):\n",
        "    if numbers % 3 == 0 and numbers % 5 == 0:\n",
        "        print(\"FizzBuzz: \"+str(numbers))\n",
        "    elif numbers % 3 == 0:\n",
        "        print(\"Fizz:\" +str(numbers))\n",
        "    elif numbers % 5 == 0:\n",
        "        print(\"Buzz:\" +str(numbers))\n",
        "    else:\n",
        "        print(numbers)"
      ]
    },
    {
      "cell_type": "markdown",
      "metadata": {
        "id": "AFNfMMP3GvNK"
      },
      "source": [
        "____\n",
        "**Use List Comprehension to create a list of the first letters of every word in the string below:**"
      ]
    },
    {
      "cell_type": "code",
      "execution_count": null,
      "metadata": {
        "id": "v2kuLqjQGvNK"
      },
      "outputs": [],
      "source": [
        "st = 'Create a list of the first letters of every word in this string'"
      ]
    },
    {
      "cell_type": "code",
      "source": [
        ""
      ],
      "metadata": {
        "id": "0nBqjtL2Rpg7"
      },
      "execution_count": null,
      "outputs": []
    },
    {
      "cell_type": "code",
      "execution_count": null,
      "metadata": {
        "colab": {
          "base_uri": "https://localhost:8080/"
        },
        "id": "Y9gLV2HpGvNK",
        "outputId": "0e020076-d6e8-455c-edd1-097eec0f798a"
      },
      "outputs": [
        {
          "output_type": "stream",
          "name": "stdout",
          "text": [
            "['C', 'a', 'l', 'o', 't', 'f', 'l', 'o', 'e', 'w', 'i', 't', 's']\n"
          ]
        }
      ],
      "source": [
        "#Code in this cell\n",
        "st = 'Create a list of the first letters of every word in this string'\n",
        "mylist = [x[0] for x in st.split()]\n",
        "print(mylist)"
      ]
    },
    {
      "cell_type": "markdown",
      "metadata": {
        "id": "IqsZEVIvGvNL"
      },
      "source": [
        "### Great Job!"
      ]
    }
  ],
  "metadata": {
    "kernelspec": {
      "display_name": "Python 3.7.9 64-bit",
      "language": "python",
      "name": "python3"
    },
    "language_info": {
      "codemirror_mode": {
        "name": "ipython",
        "version": 3
      },
      "file_extension": ".py",
      "mimetype": "text/x-python",
      "name": "python",
      "nbconvert_exporter": "python",
      "pygments_lexer": "ipython3",
      "version": "3.7.9"
    },
    "vscode": {
      "interpreter": {
        "hash": "99887611a3b5ebbd8a07ea48bb13d66e0fa7e73358c40850c8a363e543e054a3"
      }
    },
    "colab": {
      "name": "Assignment 2.ipynb",
      "provenance": [],
      "collapsed_sections": []
    }
  },
  "nbformat": 4,
  "nbformat_minor": 0
}