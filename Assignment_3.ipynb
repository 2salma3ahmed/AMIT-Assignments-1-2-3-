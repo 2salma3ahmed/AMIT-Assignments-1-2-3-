{
  "cells": [
    {
      "cell_type": "markdown",
      "metadata": {
        "id": "xvieS5uvaGDv"
      },
      "source": [
        "# Assignment 3"
      ]
    },
    {
      "cell_type": "markdown",
      "metadata": {
        "id": "HtuY4A-MaGDy"
      },
      "source": [
        "### Write a function to count the number 4 in a given list."
      ]
    },
    {
      "cell_type": "code",
      "execution_count": null,
      "metadata": {
        "collapsed": true,
        "colab": {
          "base_uri": "https://localhost:8080/"
        },
        "id": "Rcq1HI07aGDz",
        "outputId": "da80960d-e406-45e8-f510-080c8da787c5"
      },
      "outputs": [
        {
          "output_type": "stream",
          "name": "stdout",
          "text": [
            "6\n"
          ]
        }
      ],
      "source": [
        "def list4count(no):\n",
        "  count = 0  \n",
        "  for num in no:\n",
        "    if num == 4:\n",
        "      count = count + 1\n",
        "\n",
        "  return count\n",
        "\n",
        "print(list4count([15, 4, 6, 4,4,4,88,90,11,4,16,447, 4]))"
      ]
    },
    {
      "cell_type": "markdown",
      "metadata": {
        "id": "gZ9iQiXeaGD0"
      },
      "source": [
        "### write a  function to check whether a number is divisible by another number."
      ]
    },
    {
      "cell_type": "code",
      "execution_count": null,
      "metadata": {
        "collapsed": true,
        "colab": {
          "base_uri": "https://localhost:8080/"
        },
        "id": "DkeEAeKGaGD0",
        "outputId": "d2bc273e-a6f0-4755-a116-48b662924ca2"
      },
      "outputs": [
        {
          "output_type": "stream",
          "name": "stdout",
          "text": [
            "True\n",
            "True\n",
            "False\n"
          ]
        }
      ],
      "source": [
        "def divisible(NUM1, NUM2):\n",
        "\treturn True if NUM1 % NUM2 == 0 else False\n",
        "print(divisible(45, 5))\n",
        "print(divisible(18, 3))\n",
        "print(divisible(7, 2)) # EXTRA NOT REQUIRED"
      ]
    },
    {
      "cell_type": "markdown",
      "metadata": {
        "id": "0dlA7Z1UaGD1"
      },
      "source": [
        "### write a function to find the maximum and minimum numbers from a sequence of numbers."
      ]
    },
    {
      "cell_type": "code",
      "execution_count": null,
      "metadata": {
        "collapsed": true,
        "colab": {
          "base_uri": "https://localhost:8080/"
        },
        "id": "3AiGZKNqaGD1",
        "outputId": "25b6458f-0de7-43f8-e09a-4e84fcabae08"
      },
      "outputs": [
        {
          "output_type": "stream",
          "name": "stdout",
          "text": [
            "(4289, -12)\n"
          ]
        }
      ],
      "source": [
        "def MAXMIN(NUMBERS):\n",
        "  A =NUMBERS[0]\n",
        "  B = NUMBERS[0]\n",
        "  for num in NUMBERS:\n",
        "    if num> A:\n",
        "      A = num\n",
        "    elif num< B:\n",
        "        B = num\n",
        "  return A, B\n",
        "\n",
        "print( MAXMIN([2, 13, 15, 55, 4289, -12, 58,145]))"
      ]
    },
    {
      "cell_type": "markdown",
      "metadata": {
        "id": "6y-S7yxMaGD2"
      },
      "source": [
        "### Write a Python function that takes two lists and returns True if they have at least one common member."
      ]
    },
    {
      "cell_type": "code",
      "execution_count": null,
      "metadata": {
        "collapsed": true,
        "colab": {
          "base_uri": "https://localhost:8080/"
        },
        "id": "jslLmUSUaGD2",
        "outputId": "77d6579d-01bb-4cb2-8005-dedd5ca108ca"
      },
      "outputs": [
        {
          "output_type": "stream",
          "name": "stdout",
          "text": [
            "True\n",
            "None\n"
          ]
        }
      ],
      "source": [
        "def common_data(list1, list2):\n",
        "     result = False\n",
        "     for x in list1:\n",
        "         for y in list2:\n",
        "             if x == y:\n",
        "                 result = True\n",
        "                 return result\n",
        "print(common_data([1,2,3,4,5], [5,6,7,8,9]))\n",
        "print(common_data([1,2,3,4,5], [6,7,8,9]))"
      ]
    },
    {
      "cell_type": "markdown",
      "metadata": {
        "id": "K35cf8bbaGD3"
      },
      "source": [
        "### Write a Python function to calculate the factorial of a number (a non-negative integer). The function accepts the number from the user"
      ]
    },
    {
      "cell_type": "code",
      "execution_count": null,
      "metadata": {
        "collapsed": true,
        "id": "nR1mQp6eaGD3"
      },
      "outputs": [],
      "source": [
        ""
      ]
    },
    {
      "cell_type": "markdown",
      "metadata": {
        "id": "p3EbbcxlaGD4"
      },
      "source": [
        "### Write a Python function to check whether a number is in a given range.\n",
        "\n",
        "### The range is from 3 to 11\n"
      ]
    },
    {
      "cell_type": "code",
      "execution_count": null,
      "metadata": {
        "collapsed": true,
        "id": "lLTxSmmVaGD4"
      },
      "outputs": [],
      "source": [
        ""
      ]
    },
    {
      "cell_type": "markdown",
      "metadata": {
        "id": "MkZjVAfoaGD4"
      },
      "source": [
        "### Write a  program to create the multiplication table (from 1 to 10) of a number."
      ]
    },
    {
      "cell_type": "code",
      "execution_count": null,
      "metadata": {
        "collapsed": true,
        "id": "yPOv724ZaGD5"
      },
      "outputs": [],
      "source": [
        ""
      ]
    },
    {
      "cell_type": "markdown",
      "metadata": {
        "id": "YfWGDNX1aGD5"
      },
      "source": [
        "#### LESSER OF TWO EVENS: Write a function that returns the lesser of two given numbers *if* both numbers are even, but returns the greater if one or both numbers are odd\n",
        "    lesser_of_two_evens(2,4) --> 2\n",
        "    lesser_of_two_evens(2,5) --> 5"
      ]
    },
    {
      "cell_type": "code",
      "execution_count": null,
      "metadata": {
        "id": "V-_hdvrBaGD5",
        "outputId": "7233abaa-f757-440e-8930-ee35e814a7c1"
      },
      "outputs": [
        {
          "data": {
            "text/plain": [
              "5"
            ]
          },
          "execution_count": 2,
          "metadata": {},
          "output_type": "execute_result"
        }
      ],
      "source": [
        ""
      ]
    },
    {
      "cell_type": "markdown",
      "metadata": {
        "id": "stVzsRuzaGD6"
      },
      "source": [
        "#### ANIMAL CRACKERS: Write a function takes a two-word string and returns True if both words begin with same letter\n",
        "    animal_crackers('Levelheaded Llama') --> True\n",
        "    animal_crackers('Crazy Kangaroo') --> False"
      ]
    },
    {
      "cell_type": "code",
      "execution_count": null,
      "metadata": {
        "id": "-U23pCITaGD7"
      },
      "outputs": [],
      "source": [
        ""
      ]
    },
    {
      "cell_type": "markdown",
      "metadata": {
        "id": "qxBkNnVmaGD7"
      },
      "source": [
        "#### MAKES TWENTY: Given two integers, return True if the sum of the integers is 20 *or* if one of the integers is 20. If not, return False\n",
        "\n",
        "    makes_twenty(20,10) --> True\n",
        "    makes_twenty(12,8) --> True\n",
        "    makes_twenty(2,3) --> False"
      ]
    },
    {
      "cell_type": "code",
      "execution_count": null,
      "metadata": {
        "id": "ccGtwN3NaGD7"
      },
      "outputs": [],
      "source": [
        ""
      ]
    },
    {
      "cell_type": "markdown",
      "metadata": {
        "id": "hrWYRLilaGD7"
      },
      "source": [
        "#### ALMOST THERE: Given an integer n, return True if n is within 10 of either 100 or 200\n",
        "\n",
        "    almost_there(90) --> True\n",
        "    almost_there(104) --> True\n",
        "    almost_there(150) --> False\n",
        "    almost_there(209) --> True\n",
        "    \n",
        "NOTE: `abs(num)` returns the absolute value of a number"
      ]
    },
    {
      "cell_type": "code",
      "execution_count": null,
      "metadata": {
        "id": "ScxWG1rgaGD8"
      },
      "outputs": [],
      "source": [
        ""
      ]
    },
    {
      "cell_type": "markdown",
      "metadata": {
        "id": "u4XTkuRBaGD8"
      },
      "source": [
        "#### BLACKJACK: Given three integers between 1 and 11, if their sum is less than or equal to 21, return their sum. If their sum exceeds 21 *and* there's an eleven, reduce the total sum by 10. Finally, if the sum  exceeds 21, return 'BUST'\n",
        "    blackjack(5,6,7) --> 18\n",
        "    blackjack(9,9,9) --> 'BUST'\n",
        "    blackjack(9,9,11) --> 19"
      ]
    },
    {
      "cell_type": "code",
      "execution_count": null,
      "metadata": {
        "id": "YwHxwNU1aGD8"
      },
      "outputs": [],
      "source": [
        ""
      ]
    }
  ],
  "metadata": {
    "kernelspec": {
      "display_name": "Python 3.7.9 64-bit",
      "language": "python",
      "name": "python3"
    },
    "language_info": {
      "codemirror_mode": {
        "name": "ipython",
        "version": 3
      },
      "file_extension": ".py",
      "mimetype": "text/x-python",
      "name": "python",
      "nbconvert_exporter": "python",
      "pygments_lexer": "ipython3",
      "version": "3.7.9"
    },
    "vscode": {
      "interpreter": {
        "hash": "99887611a3b5ebbd8a07ea48bb13d66e0fa7e73358c40850c8a363e543e054a3"
      }
    },
    "colab": {
      "name": "Assignment 3.ipynb",
      "provenance": [],
      "collapsed_sections": []
    }
  },
  "nbformat": 4,
  "nbformat_minor": 0
}